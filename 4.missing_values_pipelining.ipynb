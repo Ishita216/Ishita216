{
  "cells": [
    {
      "cell_type": "markdown",
      "metadata": {
        "id": "view-in-github",
        "colab_type": "text"
      },
      "source": [
        "<a href=\"https://colab.research.google.com/github/Ishita216/Ishita216/blob/main/4.missing_values_pipelining.ipynb\" target=\"_parent\"><img src=\"https://colab.research.google.com/assets/colab-badge.svg\" alt=\"Open In Colab\"/></a>"
      ]
    },
    {
      "cell_type": "code",
      "source": [
        "#Last amended: 1st June, 2023\n",
        "# Ref: https://www.kaggle.com/code/alexisbcook/missing-values\n",
        "# Data Source: https://www.kaggle.com/competitions/tabular-playground-series-aug-2022/data\n"
      ],
      "metadata": {
        "id": "KORsmLnrDjKG"
      },
      "id": "KORsmLnrDjKG",
      "execution_count": null,
      "outputs": []
    },
    {
      "cell_type": "markdown",
      "id": "73575ae6",
      "metadata": {
        "papermill": {
          "duration": 0.004925,
          "end_time": "2023-04-21T13:40:52.185098",
          "exception": false,
          "start_time": "2023-04-21T13:40:52.180173",
          "status": "completed"
        },
        "tags": [],
        "id": "73575ae6"
      },
      "source": [
        "This [data represents](https://www.kaggle.com/competitions/tabular-playground-series-aug-2022/data) the results of a large product testing study. For each product_code you are given a number of product attributes (fixed for the code) as well as a number of measurement values for each individual product, representing various lab testing methods. Each product is used in a simulated real-world environment experiment, and and absorbs a certain amount of fluid (loading) to see whether or not it fails.\n",
        "\n",
        "Your task is to use the data to predict individual product failures of new codes with their individual lab test results."
      ]
    },
    {
      "cell_type": "markdown",
      "id": "76d98a93",
      "metadata": {
        "papermill": {
          "duration": 0.003361,
          "end_time": "2023-04-21T13:40:52.192292",
          "exception": false,
          "start_time": "2023-04-21T13:40:52.188931",
          "status": "completed"
        },
        "tags": [],
        "id": "76d98a93"
      },
      "source": [
        "# Simple Data pipelining"
      ]
    },
    {
      "cell_type": "code",
      "source": [
        "# 1.0\n",
        "\n",
        "import pandas as pd\n",
        "\n",
        "# 1.0.1\n",
        "from sklearn.model_selection import train_test_split\n",
        "from sklearn.ensemble import  RandomForestClassifier #CLASSIFICAION PROBLEM\n",
        "from sklearn.metrics import accuracy_score #predicting accuracy\n",
        "from sklearn.impute import SimpleImputer\n",
        "from sklearn.pipeline import make_pipeline #\n",
        "\n",
        "# 1.0.2\n",
        "from pathlib import Path\n"
      ],
      "metadata": {
        "id": "4cpM_BQTCEaW"
      },
      "id": "4cpM_BQTCEaW",
      "execution_count": 1,
      "outputs": []
    },
    {
      "cell_type": "code",
      "source": [
        "# 1.1\n",
        "from google.colab import drive\n",
        "drive.mount('/gdrive')"
      ],
      "metadata": {
        "colab": {
          "base_uri": "https://localhost:8080/"
        },
        "id": "8aafxrwACLmk",
        "outputId": "ef53b3f7-9122-4979-f451-98e7c0c31fa6"
      },
      "id": "8aafxrwACLmk",
      "execution_count": 3,
      "outputs": [
        {
          "output_type": "stream",
          "name": "stdout",
          "text": [
            "Drive already mounted at /gdrive; to attempt to forcibly remount, call drive.mount(\"/gdrive\", force_remount=True).\n"
          ]
        }
      ]
    },
    {
      "cell_type": "code",
      "source": [
        "# 1.2 Display from a cell outputs of multiple commands:\n",
        "\n",
        "from IPython.core.interactiveshell import InteractiveShell\n",
        "InteractiveShell.ast_node_interactivity = \"all\""
      ],
      "metadata": {
        "id": "fOn-d7TBxhg_"
      },
      "id": "fOn-d7TBxhg_",
      "execution_count": 4,
      "outputs": []
    },
    {
      "cell_type": "code",
      "source": [
        "# 1.2.1 Where is our data:\n",
        "\n",
        "pathToFolder = \"/gdrive/MyDrive\"\n"
      ],
      "metadata": {
        "id": "xN2YaWgdCaqy"
      },
      "id": "xN2YaWgdCaqy",
      "execution_count": 17,
      "outputs": []
    },
    {
      "cell_type": "code",
      "source": [
        "# 1.2.2 And our file?\n",
        "\n",
        "path = Path(pathToFolder) / \"producttesting.zip\""
      ],
      "metadata": {
        "id": "C8yenP62Cktl"
      },
      "id": "C8yenP62Cktl",
      "execution_count": 18,
      "outputs": []
    },
    {
      "cell_type": "code",
      "source": [
        "# 2.1 Load the data\n",
        "data = pd.read_csv(path)"
      ],
      "metadata": {
        "id": "OHXu7s6-Crsn"
      },
      "id": "OHXu7s6-Crsn",
      "execution_count": 40,
      "outputs": []
    },
    {
      "cell_type": "code",
      "source": [
        "# 2.2\n",
        "data.shape  #(26570, 26)\n",
        "data.tail()\n"
      ],
      "metadata": {
        "colab": {
          "base_uri": "https://localhost:8080/",
          "height": 317
        },
        "id": "7oFzt33Ox0aN",
        "outputId": "4c25d1aa-70ea-48ad-cf20-bf9ffcd5cc82"
      },
      "id": "7oFzt33Ox0aN",
      "execution_count": 41,
      "outputs": [
        {
          "output_type": "execute_result",
          "data": {
            "text/plain": [
              "(26570, 26)"
            ]
          },
          "metadata": {},
          "execution_count": 41
        },
        {
          "output_type": "execute_result",
          "data": {
            "text/plain": [
              "          id product_code  loading attribute_0 attribute_1  attribute_2  \\\n",
              "26565  26565            E   158.95  material_7  material_6            6   \n",
              "26566  26566            E   146.02  material_7  material_6            6   \n",
              "26567  26567            E   115.62  material_7  material_6            6   \n",
              "26568  26568            E   106.38  material_7  material_6            6   \n",
              "26569  26569            E   131.20  material_7  material_6            6   \n",
              "\n",
              "       attribute_3  measurement_0  measurement_1  measurement_2  ...  \\\n",
              "26565            9              6             16              4  ...   \n",
              "26566            9             10             12              8  ...   \n",
              "26567            9              1             10              1  ...   \n",
              "26568            9              2              9              4  ...   \n",
              "26569            9              6             19              1  ...   \n",
              "\n",
              "       measurement_9  measurement_10  measurement_11  measurement_12  \\\n",
              "26565            NaN          12.177          17.942          10.112   \n",
              "26566         11.242          14.179          20.564          10.234   \n",
              "26567         11.407          16.437          17.476           8.668   \n",
              "26568         11.392          17.064          17.814          14.928   \n",
              "26569         10.611          15.603          19.703          11.006   \n",
              "\n",
              "       measurement_13  measurement_14  measurement_15  measurement_16  \\\n",
              "26565          15.795          18.572          16.144             NaN   \n",
              "26566          14.450          14.322          13.146          16.471   \n",
              "26567          15.069          16.599          15.590          14.065   \n",
              "26568          16.273          15.485          13.624          12.865   \n",
              "26569          15.875          13.366          16.527          17.890   \n",
              "\n",
              "       measurement_17  failure  \n",
              "26565         729.131        0  \n",
              "26566         853.924        0  \n",
              "26567         750.364        0  \n",
              "26568         730.156        0  \n",
              "26569         602.354        0  \n",
              "\n",
              "[5 rows x 26 columns]"
            ],
            "text/html": [
              "\n",
              "\n",
              "  <div id=\"df-4e2f7c7b-c7d0-4d09-af49-6de3e4699c52\">\n",
              "    <div class=\"colab-df-container\">\n",
              "      <div>\n",
              "<style scoped>\n",
              "    .dataframe tbody tr th:only-of-type {\n",
              "        vertical-align: middle;\n",
              "    }\n",
              "\n",
              "    .dataframe tbody tr th {\n",
              "        vertical-align: top;\n",
              "    }\n",
              "\n",
              "    .dataframe thead th {\n",
              "        text-align: right;\n",
              "    }\n",
              "</style>\n",
              "<table border=\"1\" class=\"dataframe\">\n",
              "  <thead>\n",
              "    <tr style=\"text-align: right;\">\n",
              "      <th></th>\n",
              "      <th>id</th>\n",
              "      <th>product_code</th>\n",
              "      <th>loading</th>\n",
              "      <th>attribute_0</th>\n",
              "      <th>attribute_1</th>\n",
              "      <th>attribute_2</th>\n",
              "      <th>attribute_3</th>\n",
              "      <th>measurement_0</th>\n",
              "      <th>measurement_1</th>\n",
              "      <th>measurement_2</th>\n",
              "      <th>...</th>\n",
              "      <th>measurement_9</th>\n",
              "      <th>measurement_10</th>\n",
              "      <th>measurement_11</th>\n",
              "      <th>measurement_12</th>\n",
              "      <th>measurement_13</th>\n",
              "      <th>measurement_14</th>\n",
              "      <th>measurement_15</th>\n",
              "      <th>measurement_16</th>\n",
              "      <th>measurement_17</th>\n",
              "      <th>failure</th>\n",
              "    </tr>\n",
              "  </thead>\n",
              "  <tbody>\n",
              "    <tr>\n",
              "      <th>26565</th>\n",
              "      <td>26565</td>\n",
              "      <td>E</td>\n",
              "      <td>158.95</td>\n",
              "      <td>material_7</td>\n",
              "      <td>material_6</td>\n",
              "      <td>6</td>\n",
              "      <td>9</td>\n",
              "      <td>6</td>\n",
              "      <td>16</td>\n",
              "      <td>4</td>\n",
              "      <td>...</td>\n",
              "      <td>NaN</td>\n",
              "      <td>12.177</td>\n",
              "      <td>17.942</td>\n",
              "      <td>10.112</td>\n",
              "      <td>15.795</td>\n",
              "      <td>18.572</td>\n",
              "      <td>16.144</td>\n",
              "      <td>NaN</td>\n",
              "      <td>729.131</td>\n",
              "      <td>0</td>\n",
              "    </tr>\n",
              "    <tr>\n",
              "      <th>26566</th>\n",
              "      <td>26566</td>\n",
              "      <td>E</td>\n",
              "      <td>146.02</td>\n",
              "      <td>material_7</td>\n",
              "      <td>material_6</td>\n",
              "      <td>6</td>\n",
              "      <td>9</td>\n",
              "      <td>10</td>\n",
              "      <td>12</td>\n",
              "      <td>8</td>\n",
              "      <td>...</td>\n",
              "      <td>11.242</td>\n",
              "      <td>14.179</td>\n",
              "      <td>20.564</td>\n",
              "      <td>10.234</td>\n",
              "      <td>14.450</td>\n",
              "      <td>14.322</td>\n",
              "      <td>13.146</td>\n",
              "      <td>16.471</td>\n",
              "      <td>853.924</td>\n",
              "      <td>0</td>\n",
              "    </tr>\n",
              "    <tr>\n",
              "      <th>26567</th>\n",
              "      <td>26567</td>\n",
              "      <td>E</td>\n",
              "      <td>115.62</td>\n",
              "      <td>material_7</td>\n",
              "      <td>material_6</td>\n",
              "      <td>6</td>\n",
              "      <td>9</td>\n",
              "      <td>1</td>\n",
              "      <td>10</td>\n",
              "      <td>1</td>\n",
              "      <td>...</td>\n",
              "      <td>11.407</td>\n",
              "      <td>16.437</td>\n",
              "      <td>17.476</td>\n",
              "      <td>8.668</td>\n",
              "      <td>15.069</td>\n",
              "      <td>16.599</td>\n",
              "      <td>15.590</td>\n",
              "      <td>14.065</td>\n",
              "      <td>750.364</td>\n",
              "      <td>0</td>\n",
              "    </tr>\n",
              "    <tr>\n",
              "      <th>26568</th>\n",
              "      <td>26568</td>\n",
              "      <td>E</td>\n",
              "      <td>106.38</td>\n",
              "      <td>material_7</td>\n",
              "      <td>material_6</td>\n",
              "      <td>6</td>\n",
              "      <td>9</td>\n",
              "      <td>2</td>\n",
              "      <td>9</td>\n",
              "      <td>4</td>\n",
              "      <td>...</td>\n",
              "      <td>11.392</td>\n",
              "      <td>17.064</td>\n",
              "      <td>17.814</td>\n",
              "      <td>14.928</td>\n",
              "      <td>16.273</td>\n",
              "      <td>15.485</td>\n",
              "      <td>13.624</td>\n",
              "      <td>12.865</td>\n",
              "      <td>730.156</td>\n",
              "      <td>0</td>\n",
              "    </tr>\n",
              "    <tr>\n",
              "      <th>26569</th>\n",
              "      <td>26569</td>\n",
              "      <td>E</td>\n",
              "      <td>131.20</td>\n",
              "      <td>material_7</td>\n",
              "      <td>material_6</td>\n",
              "      <td>6</td>\n",
              "      <td>9</td>\n",
              "      <td>6</td>\n",
              "      <td>19</td>\n",
              "      <td>1</td>\n",
              "      <td>...</td>\n",
              "      <td>10.611</td>\n",
              "      <td>15.603</td>\n",
              "      <td>19.703</td>\n",
              "      <td>11.006</td>\n",
              "      <td>15.875</td>\n",
              "      <td>13.366</td>\n",
              "      <td>16.527</td>\n",
              "      <td>17.890</td>\n",
              "      <td>602.354</td>\n",
              "      <td>0</td>\n",
              "    </tr>\n",
              "  </tbody>\n",
              "</table>\n",
              "<p>5 rows × 26 columns</p>\n",
              "</div>\n",
              "      <button class=\"colab-df-convert\" onclick=\"convertToInteractive('df-4e2f7c7b-c7d0-4d09-af49-6de3e4699c52')\"\n",
              "              title=\"Convert this dataframe to an interactive table.\"\n",
              "              style=\"display:none;\">\n",
              "\n",
              "  <svg xmlns=\"http://www.w3.org/2000/svg\" height=\"24px\"viewBox=\"0 0 24 24\"\n",
              "       width=\"24px\">\n",
              "    <path d=\"M0 0h24v24H0V0z\" fill=\"none\"/>\n",
              "    <path d=\"M18.56 5.44l.94 2.06.94-2.06 2.06-.94-2.06-.94-.94-2.06-.94 2.06-2.06.94zm-11 1L8.5 8.5l.94-2.06 2.06-.94-2.06-.94L8.5 2.5l-.94 2.06-2.06.94zm10 10l.94 2.06.94-2.06 2.06-.94-2.06-.94-.94-2.06-.94 2.06-2.06.94z\"/><path d=\"M17.41 7.96l-1.37-1.37c-.4-.4-.92-.59-1.43-.59-.52 0-1.04.2-1.43.59L10.3 9.45l-7.72 7.72c-.78.78-.78 2.05 0 2.83L4 21.41c.39.39.9.59 1.41.59.51 0 1.02-.2 1.41-.59l7.78-7.78 2.81-2.81c.8-.78.8-2.07 0-2.86zM5.41 20L4 18.59l7.72-7.72 1.47 1.35L5.41 20z\"/>\n",
              "  </svg>\n",
              "      </button>\n",
              "\n",
              "\n",
              "\n",
              "    <div id=\"df-174a23ec-dbf2-4516-9234-12426ab1a434\">\n",
              "      <button class=\"colab-df-quickchart\" onclick=\"quickchart('df-174a23ec-dbf2-4516-9234-12426ab1a434')\"\n",
              "              title=\"Suggest charts.\"\n",
              "              style=\"display:none;\">\n",
              "\n",
              "<svg xmlns=\"http://www.w3.org/2000/svg\" height=\"24px\"viewBox=\"0 0 24 24\"\n",
              "     width=\"24px\">\n",
              "    <g>\n",
              "        <path d=\"M19 3H5c-1.1 0-2 .9-2 2v14c0 1.1.9 2 2 2h14c1.1 0 2-.9 2-2V5c0-1.1-.9-2-2-2zM9 17H7v-7h2v7zm4 0h-2V7h2v10zm4 0h-2v-4h2v4z\"/>\n",
              "    </g>\n",
              "</svg>\n",
              "      </button>\n",
              "    </div>\n",
              "\n",
              "<style>\n",
              "  .colab-df-quickchart {\n",
              "    background-color: #E8F0FE;\n",
              "    border: none;\n",
              "    border-radius: 50%;\n",
              "    cursor: pointer;\n",
              "    display: none;\n",
              "    fill: #1967D2;\n",
              "    height: 32px;\n",
              "    padding: 0 0 0 0;\n",
              "    width: 32px;\n",
              "  }\n",
              "\n",
              "  .colab-df-quickchart:hover {\n",
              "    background-color: #E2EBFA;\n",
              "    box-shadow: 0px 1px 2px rgba(60, 64, 67, 0.3), 0px 1px 3px 1px rgba(60, 64, 67, 0.15);\n",
              "    fill: #174EA6;\n",
              "  }\n",
              "\n",
              "  [theme=dark] .colab-df-quickchart {\n",
              "    background-color: #3B4455;\n",
              "    fill: #D2E3FC;\n",
              "  }\n",
              "\n",
              "  [theme=dark] .colab-df-quickchart:hover {\n",
              "    background-color: #434B5C;\n",
              "    box-shadow: 0px 1px 3px 1px rgba(0, 0, 0, 0.15);\n",
              "    filter: drop-shadow(0px 1px 2px rgba(0, 0, 0, 0.3));\n",
              "    fill: #FFFFFF;\n",
              "  }\n",
              "</style>\n",
              "\n",
              "    <script>\n",
              "      async function quickchart(key) {\n",
              "        const containerElement = document.querySelector('#' + key);\n",
              "        const charts = await google.colab.kernel.invokeFunction(\n",
              "            'suggestCharts', [key], {});\n",
              "      }\n",
              "    </script>\n",
              "\n",
              "      <script>\n",
              "\n",
              "function displayQuickchartButton(domScope) {\n",
              "  let quickchartButtonEl =\n",
              "    domScope.querySelector('#df-174a23ec-dbf2-4516-9234-12426ab1a434 button.colab-df-quickchart');\n",
              "  quickchartButtonEl.style.display =\n",
              "    google.colab.kernel.accessAllowed ? 'block' : 'none';\n",
              "}\n",
              "\n",
              "        displayQuickchartButton(document);\n",
              "      </script>\n",
              "      <style>\n",
              "    .colab-df-container {\n",
              "      display:flex;\n",
              "      flex-wrap:wrap;\n",
              "      gap: 12px;\n",
              "    }\n",
              "\n",
              "    .colab-df-convert {\n",
              "      background-color: #E8F0FE;\n",
              "      border: none;\n",
              "      border-radius: 50%;\n",
              "      cursor: pointer;\n",
              "      display: none;\n",
              "      fill: #1967D2;\n",
              "      height: 32px;\n",
              "      padding: 0 0 0 0;\n",
              "      width: 32px;\n",
              "    }\n",
              "\n",
              "    .colab-df-convert:hover {\n",
              "      background-color: #E2EBFA;\n",
              "      box-shadow: 0px 1px 2px rgba(60, 64, 67, 0.3), 0px 1px 3px 1px rgba(60, 64, 67, 0.15);\n",
              "      fill: #174EA6;\n",
              "    }\n",
              "\n",
              "    [theme=dark] .colab-df-convert {\n",
              "      background-color: #3B4455;\n",
              "      fill: #D2E3FC;\n",
              "    }\n",
              "\n",
              "    [theme=dark] .colab-df-convert:hover {\n",
              "      background-color: #434B5C;\n",
              "      box-shadow: 0px 1px 3px 1px rgba(0, 0, 0, 0.15);\n",
              "      filter: drop-shadow(0px 1px 2px rgba(0, 0, 0, 0.3));\n",
              "      fill: #FFFFFF;\n",
              "    }\n",
              "  </style>\n",
              "\n",
              "      <script>\n",
              "        const buttonEl =\n",
              "          document.querySelector('#df-4e2f7c7b-c7d0-4d09-af49-6de3e4699c52 button.colab-df-convert');\n",
              "        buttonEl.style.display =\n",
              "          google.colab.kernel.accessAllowed ? 'block' : 'none';\n",
              "\n",
              "        async function convertToInteractive(key) {\n",
              "          const element = document.querySelector('#df-4e2f7c7b-c7d0-4d09-af49-6de3e4699c52');\n",
              "          const dataTable =\n",
              "            await google.colab.kernel.invokeFunction('convertToInteractive',\n",
              "                                                     [key], {});\n",
              "          if (!dataTable) return;\n",
              "\n",
              "          const docLinkHtml = 'Like what you see? Visit the ' +\n",
              "            '<a target=\"_blank\" href=https://colab.research.google.com/notebooks/data_table.ipynb>data table notebook</a>'\n",
              "            + ' to learn more about interactive tables.';\n",
              "          element.innerHTML = '';\n",
              "          dataTable['output_type'] = 'display_data';\n",
              "          await google.colab.output.renderOutput(dataTable, element);\n",
              "          const docLink = document.createElement('div');\n",
              "          docLink.innerHTML = docLinkHtml;\n",
              "          element.appendChild(docLink);\n",
              "        }\n",
              "      </script>\n",
              "    </div>\n",
              "  </div>\n"
            ]
          },
          "metadata": {},
          "execution_count": 41
        }
      ]
    },
    {
      "cell_type": "code",
      "source": [
        "# 2.2.1 Get Target\n",
        "\n",
        "y = data.pop(\"failure\")"
      ],
      "metadata": {
        "id": "wgqc_Ku_nz9c"
      },
      "id": "wgqc_Ku_nz9c",
      "execution_count": 42,
      "outputs": []
    },
    {
      "cell_type": "code",
      "source": [
        "X = data.select_dtypes(exclude = ['object'])\n",
        "X.pop(\"id\")"
      ],
      "metadata": {
        "colab": {
          "base_uri": "https://localhost:8080/"
        },
        "id": "sIV5CjMgHP9O",
        "outputId": "b66e7f13-ac22-4395-ed73-b560557f1483"
      },
      "id": "sIV5CjMgHP9O",
      "execution_count": 43,
      "outputs": [
        {
          "output_type": "execute_result",
          "data": {
            "text/plain": [
              "0            0\n",
              "1            1\n",
              "2            2\n",
              "3            3\n",
              "4            4\n",
              "         ...  \n",
              "26565    26565\n",
              "26566    26566\n",
              "26567    26567\n",
              "26568    26568\n",
              "26569    26569\n",
              "Name: id, Length: 26570, dtype: int64"
            ]
          },
          "metadata": {},
          "execution_count": 43
        }
      ]
    },
    {
      "cell_type": "code",
      "source": [
        "column_name = list(X.columns)"
      ],
      "metadata": {
        "id": "m35asyipr2t_"
      },
      "id": "m35asyipr2t_",
      "execution_count": 45,
      "outputs": []
    },
    {
      "cell_type": "code",
      "source": [
        "column_name"
      ],
      "metadata": {
        "id": "ewqvvSdasHWQ",
        "outputId": "94c8d51e-415b-475d-d9ec-2e924a67e78d",
        "colab": {
          "base_uri": "https://localhost:8080/"
        }
      },
      "id": "ewqvvSdasHWQ",
      "execution_count": 47,
      "outputs": [
        {
          "output_type": "execute_result",
          "data": {
            "text/plain": [
              "['loading',\n",
              " 'attribute_2',\n",
              " 'attribute_3',\n",
              " 'measurement_0',\n",
              " 'measurement_1',\n",
              " 'measurement_2',\n",
              " 'measurement_3',\n",
              " 'measurement_4',\n",
              " 'measurement_5',\n",
              " 'measurement_6',\n",
              " 'measurement_7',\n",
              " 'measurement_8',\n",
              " 'measurement_9',\n",
              " 'measurement_10',\n",
              " 'measurement_11',\n",
              " 'measurement_12',\n",
              " 'measurement_13',\n",
              " 'measurement_14',\n",
              " 'measurement_15',\n",
              " 'measurement_16',\n",
              " 'measurement_17']"
            ]
          },
          "metadata": {},
          "execution_count": 47
        }
      ]
    },
    {
      "cell_type": "code",
      "source": [
        "X.head()"
      ],
      "metadata": {
        "id": "X_ZSbeZboARx",
        "outputId": "f3971607-5e48-4a6a-8e3f-80b01a044835",
        "colab": {
          "base_uri": "https://localhost:8080/",
          "height": 300
        }
      },
      "id": "X_ZSbeZboARx",
      "execution_count": 59,
      "outputs": [
        {
          "output_type": "execute_result",
          "data": {
            "text/plain": [
              "   loading  attribute_2  attribute_3  measurement_0  measurement_1  \\\n",
              "0    80.10          9.0          5.0            7.0            8.0   \n",
              "1    84.89          9.0          5.0           14.0            3.0   \n",
              "2    82.43          9.0          5.0           12.0            1.0   \n",
              "3   101.07          9.0          5.0           13.0            2.0   \n",
              "4   188.06          9.0          5.0            9.0            2.0   \n",
              "\n",
              "   measurement_2  measurement_3  measurement_4  measurement_5  measurement_6  \\\n",
              "0            4.0         18.040         12.518         15.748         19.292   \n",
              "1            3.0         18.213         11.540         17.717         17.893   \n",
              "2            5.0         18.057         11.652         16.738         18.240   \n",
              "3            6.0         17.295         11.188         18.576         18.339   \n",
              "4            8.0         19.346         12.950         16.990         15.746   \n",
              "\n",
              "   ...  measurement_8  measurement_9  measurement_10  measurement_11  \\\n",
              "0  ...         20.155         10.672          15.859         17.5940   \n",
              "1  ...         17.889         12.448          17.947         17.9150   \n",
              "2  ...         18.288         12.715          15.607         19.2115   \n",
              "3  ...         19.060         12.471          16.346         18.3770   \n",
              "4  ...         18.093         10.337          17.082         19.9320   \n",
              "\n",
              "   measurement_12  measurement_13  measurement_14  measurement_15  \\\n",
              "0          15.193          15.029          16.040          13.034   \n",
              "1          11.755          14.732          15.425          14.395   \n",
              "2          13.798          16.711          18.631          14.094   \n",
              "3          10.020          15.250          15.562          16.154   \n",
              "4          12.428          16.182          12.760          13.153   \n",
              "\n",
              "   measurement_16  measurement_17  \n",
              "0          14.684         764.100  \n",
              "1          15.631         682.057  \n",
              "2          17.946         663.376  \n",
              "3          17.172         826.282  \n",
              "4          16.412         579.885  \n",
              "\n",
              "[5 rows x 21 columns]"
            ],
            "text/html": [
              "\n",
              "\n",
              "  <div id=\"df-aa047b55-7db7-4cef-9903-945978affc9a\">\n",
              "    <div class=\"colab-df-container\">\n",
              "      <div>\n",
              "<style scoped>\n",
              "    .dataframe tbody tr th:only-of-type {\n",
              "        vertical-align: middle;\n",
              "    }\n",
              "\n",
              "    .dataframe tbody tr th {\n",
              "        vertical-align: top;\n",
              "    }\n",
              "\n",
              "    .dataframe thead th {\n",
              "        text-align: right;\n",
              "    }\n",
              "</style>\n",
              "<table border=\"1\" class=\"dataframe\">\n",
              "  <thead>\n",
              "    <tr style=\"text-align: right;\">\n",
              "      <th></th>\n",
              "      <th>loading</th>\n",
              "      <th>attribute_2</th>\n",
              "      <th>attribute_3</th>\n",
              "      <th>measurement_0</th>\n",
              "      <th>measurement_1</th>\n",
              "      <th>measurement_2</th>\n",
              "      <th>measurement_3</th>\n",
              "      <th>measurement_4</th>\n",
              "      <th>measurement_5</th>\n",
              "      <th>measurement_6</th>\n",
              "      <th>...</th>\n",
              "      <th>measurement_8</th>\n",
              "      <th>measurement_9</th>\n",
              "      <th>measurement_10</th>\n",
              "      <th>measurement_11</th>\n",
              "      <th>measurement_12</th>\n",
              "      <th>measurement_13</th>\n",
              "      <th>measurement_14</th>\n",
              "      <th>measurement_15</th>\n",
              "      <th>measurement_16</th>\n",
              "      <th>measurement_17</th>\n",
              "    </tr>\n",
              "  </thead>\n",
              "  <tbody>\n",
              "    <tr>\n",
              "      <th>0</th>\n",
              "      <td>80.10</td>\n",
              "      <td>9.0</td>\n",
              "      <td>5.0</td>\n",
              "      <td>7.0</td>\n",
              "      <td>8.0</td>\n",
              "      <td>4.0</td>\n",
              "      <td>18.040</td>\n",
              "      <td>12.518</td>\n",
              "      <td>15.748</td>\n",
              "      <td>19.292</td>\n",
              "      <td>...</td>\n",
              "      <td>20.155</td>\n",
              "      <td>10.672</td>\n",
              "      <td>15.859</td>\n",
              "      <td>17.5940</td>\n",
              "      <td>15.193</td>\n",
              "      <td>15.029</td>\n",
              "      <td>16.040</td>\n",
              "      <td>13.034</td>\n",
              "      <td>14.684</td>\n",
              "      <td>764.100</td>\n",
              "    </tr>\n",
              "    <tr>\n",
              "      <th>1</th>\n",
              "      <td>84.89</td>\n",
              "      <td>9.0</td>\n",
              "      <td>5.0</td>\n",
              "      <td>14.0</td>\n",
              "      <td>3.0</td>\n",
              "      <td>3.0</td>\n",
              "      <td>18.213</td>\n",
              "      <td>11.540</td>\n",
              "      <td>17.717</td>\n",
              "      <td>17.893</td>\n",
              "      <td>...</td>\n",
              "      <td>17.889</td>\n",
              "      <td>12.448</td>\n",
              "      <td>17.947</td>\n",
              "      <td>17.9150</td>\n",
              "      <td>11.755</td>\n",
              "      <td>14.732</td>\n",
              "      <td>15.425</td>\n",
              "      <td>14.395</td>\n",
              "      <td>15.631</td>\n",
              "      <td>682.057</td>\n",
              "    </tr>\n",
              "    <tr>\n",
              "      <th>2</th>\n",
              "      <td>82.43</td>\n",
              "      <td>9.0</td>\n",
              "      <td>5.0</td>\n",
              "      <td>12.0</td>\n",
              "      <td>1.0</td>\n",
              "      <td>5.0</td>\n",
              "      <td>18.057</td>\n",
              "      <td>11.652</td>\n",
              "      <td>16.738</td>\n",
              "      <td>18.240</td>\n",
              "      <td>...</td>\n",
              "      <td>18.288</td>\n",
              "      <td>12.715</td>\n",
              "      <td>15.607</td>\n",
              "      <td>19.2115</td>\n",
              "      <td>13.798</td>\n",
              "      <td>16.711</td>\n",
              "      <td>18.631</td>\n",
              "      <td>14.094</td>\n",
              "      <td>17.946</td>\n",
              "      <td>663.376</td>\n",
              "    </tr>\n",
              "    <tr>\n",
              "      <th>3</th>\n",
              "      <td>101.07</td>\n",
              "      <td>9.0</td>\n",
              "      <td>5.0</td>\n",
              "      <td>13.0</td>\n",
              "      <td>2.0</td>\n",
              "      <td>6.0</td>\n",
              "      <td>17.295</td>\n",
              "      <td>11.188</td>\n",
              "      <td>18.576</td>\n",
              "      <td>18.339</td>\n",
              "      <td>...</td>\n",
              "      <td>19.060</td>\n",
              "      <td>12.471</td>\n",
              "      <td>16.346</td>\n",
              "      <td>18.3770</td>\n",
              "      <td>10.020</td>\n",
              "      <td>15.250</td>\n",
              "      <td>15.562</td>\n",
              "      <td>16.154</td>\n",
              "      <td>17.172</td>\n",
              "      <td>826.282</td>\n",
              "    </tr>\n",
              "    <tr>\n",
              "      <th>4</th>\n",
              "      <td>188.06</td>\n",
              "      <td>9.0</td>\n",
              "      <td>5.0</td>\n",
              "      <td>9.0</td>\n",
              "      <td>2.0</td>\n",
              "      <td>8.0</td>\n",
              "      <td>19.346</td>\n",
              "      <td>12.950</td>\n",
              "      <td>16.990</td>\n",
              "      <td>15.746</td>\n",
              "      <td>...</td>\n",
              "      <td>18.093</td>\n",
              "      <td>10.337</td>\n",
              "      <td>17.082</td>\n",
              "      <td>19.9320</td>\n",
              "      <td>12.428</td>\n",
              "      <td>16.182</td>\n",
              "      <td>12.760</td>\n",
              "      <td>13.153</td>\n",
              "      <td>16.412</td>\n",
              "      <td>579.885</td>\n",
              "    </tr>\n",
              "  </tbody>\n",
              "</table>\n",
              "<p>5 rows × 21 columns</p>\n",
              "</div>\n",
              "      <button class=\"colab-df-convert\" onclick=\"convertToInteractive('df-aa047b55-7db7-4cef-9903-945978affc9a')\"\n",
              "              title=\"Convert this dataframe to an interactive table.\"\n",
              "              style=\"display:none;\">\n",
              "\n",
              "  <svg xmlns=\"http://www.w3.org/2000/svg\" height=\"24px\"viewBox=\"0 0 24 24\"\n",
              "       width=\"24px\">\n",
              "    <path d=\"M0 0h24v24H0V0z\" fill=\"none\"/>\n",
              "    <path d=\"M18.56 5.44l.94 2.06.94-2.06 2.06-.94-2.06-.94-.94-2.06-.94 2.06-2.06.94zm-11 1L8.5 8.5l.94-2.06 2.06-.94-2.06-.94L8.5 2.5l-.94 2.06-2.06.94zm10 10l.94 2.06.94-2.06 2.06-.94-2.06-.94-.94-2.06-.94 2.06-2.06.94z\"/><path d=\"M17.41 7.96l-1.37-1.37c-.4-.4-.92-.59-1.43-.59-.52 0-1.04.2-1.43.59L10.3 9.45l-7.72 7.72c-.78.78-.78 2.05 0 2.83L4 21.41c.39.39.9.59 1.41.59.51 0 1.02-.2 1.41-.59l7.78-7.78 2.81-2.81c.8-.78.8-2.07 0-2.86zM5.41 20L4 18.59l7.72-7.72 1.47 1.35L5.41 20z\"/>\n",
              "  </svg>\n",
              "      </button>\n",
              "\n",
              "\n",
              "\n",
              "    <div id=\"df-db7dad27-068f-4f94-b546-5d7e217e7f8d\">\n",
              "      <button class=\"colab-df-quickchart\" onclick=\"quickchart('df-db7dad27-068f-4f94-b546-5d7e217e7f8d')\"\n",
              "              title=\"Suggest charts.\"\n",
              "              style=\"display:none;\">\n",
              "\n",
              "<svg xmlns=\"http://www.w3.org/2000/svg\" height=\"24px\"viewBox=\"0 0 24 24\"\n",
              "     width=\"24px\">\n",
              "    <g>\n",
              "        <path d=\"M19 3H5c-1.1 0-2 .9-2 2v14c0 1.1.9 2 2 2h14c1.1 0 2-.9 2-2V5c0-1.1-.9-2-2-2zM9 17H7v-7h2v7zm4 0h-2V7h2v10zm4 0h-2v-4h2v4z\"/>\n",
              "    </g>\n",
              "</svg>\n",
              "      </button>\n",
              "    </div>\n",
              "\n",
              "<style>\n",
              "  .colab-df-quickchart {\n",
              "    background-color: #E8F0FE;\n",
              "    border: none;\n",
              "    border-radius: 50%;\n",
              "    cursor: pointer;\n",
              "    display: none;\n",
              "    fill: #1967D2;\n",
              "    height: 32px;\n",
              "    padding: 0 0 0 0;\n",
              "    width: 32px;\n",
              "  }\n",
              "\n",
              "  .colab-df-quickchart:hover {\n",
              "    background-color: #E2EBFA;\n",
              "    box-shadow: 0px 1px 2px rgba(60, 64, 67, 0.3), 0px 1px 3px 1px rgba(60, 64, 67, 0.15);\n",
              "    fill: #174EA6;\n",
              "  }\n",
              "\n",
              "  [theme=dark] .colab-df-quickchart {\n",
              "    background-color: #3B4455;\n",
              "    fill: #D2E3FC;\n",
              "  }\n",
              "\n",
              "  [theme=dark] .colab-df-quickchart:hover {\n",
              "    background-color: #434B5C;\n",
              "    box-shadow: 0px 1px 3px 1px rgba(0, 0, 0, 0.15);\n",
              "    filter: drop-shadow(0px 1px 2px rgba(0, 0, 0, 0.3));\n",
              "    fill: #FFFFFF;\n",
              "  }\n",
              "</style>\n",
              "\n",
              "    <script>\n",
              "      async function quickchart(key) {\n",
              "        const containerElement = document.querySelector('#' + key);\n",
              "        const charts = await google.colab.kernel.invokeFunction(\n",
              "            'suggestCharts', [key], {});\n",
              "      }\n",
              "    </script>\n",
              "\n",
              "      <script>\n",
              "\n",
              "function displayQuickchartButton(domScope) {\n",
              "  let quickchartButtonEl =\n",
              "    domScope.querySelector('#df-db7dad27-068f-4f94-b546-5d7e217e7f8d button.colab-df-quickchart');\n",
              "  quickchartButtonEl.style.display =\n",
              "    google.colab.kernel.accessAllowed ? 'block' : 'none';\n",
              "}\n",
              "\n",
              "        displayQuickchartButton(document);\n",
              "      </script>\n",
              "      <style>\n",
              "    .colab-df-container {\n",
              "      display:flex;\n",
              "      flex-wrap:wrap;\n",
              "      gap: 12px;\n",
              "    }\n",
              "\n",
              "    .colab-df-convert {\n",
              "      background-color: #E8F0FE;\n",
              "      border: none;\n",
              "      border-radius: 50%;\n",
              "      cursor: pointer;\n",
              "      display: none;\n",
              "      fill: #1967D2;\n",
              "      height: 32px;\n",
              "      padding: 0 0 0 0;\n",
              "      width: 32px;\n",
              "    }\n",
              "\n",
              "    .colab-df-convert:hover {\n",
              "      background-color: #E2EBFA;\n",
              "      box-shadow: 0px 1px 2px rgba(60, 64, 67, 0.3), 0px 1px 3px 1px rgba(60, 64, 67, 0.15);\n",
              "      fill: #174EA6;\n",
              "    }\n",
              "\n",
              "    [theme=dark] .colab-df-convert {\n",
              "      background-color: #3B4455;\n",
              "      fill: #D2E3FC;\n",
              "    }\n",
              "\n",
              "    [theme=dark] .colab-df-convert:hover {\n",
              "      background-color: #434B5C;\n",
              "      box-shadow: 0px 1px 3px 1px rgba(0, 0, 0, 0.15);\n",
              "      filter: drop-shadow(0px 1px 2px rgba(0, 0, 0, 0.3));\n",
              "      fill: #FFFFFF;\n",
              "    }\n",
              "  </style>\n",
              "\n",
              "      <script>\n",
              "        const buttonEl =\n",
              "          document.querySelector('#df-aa047b55-7db7-4cef-9903-945978affc9a button.colab-df-convert');\n",
              "        buttonEl.style.display =\n",
              "          google.colab.kernel.accessAllowed ? 'block' : 'none';\n",
              "\n",
              "        async function convertToInteractive(key) {\n",
              "          const element = document.querySelector('#df-aa047b55-7db7-4cef-9903-945978affc9a');\n",
              "          const dataTable =\n",
              "            await google.colab.kernel.invokeFunction('convertToInteractive',\n",
              "                                                     [key], {});\n",
              "          if (!dataTable) return;\n",
              "\n",
              "          const docLinkHtml = 'Like what you see? Visit the ' +\n",
              "            '<a target=\"_blank\" href=https://colab.research.google.com/notebooks/data_table.ipynb>data table notebook</a>'\n",
              "            + ' to learn more about interactive tables.';\n",
              "          element.innerHTML = '';\n",
              "          dataTable['output_type'] = 'display_data';\n",
              "          await google.colab.output.renderOutput(dataTable, element);\n",
              "          const docLink = document.createElement('div');\n",
              "          docLink.innerHTML = docLinkHtml;\n",
              "          element.appendChild(docLink);\n",
              "        }\n",
              "      </script>\n",
              "    </div>\n",
              "  </div>\n"
            ]
          },
          "metadata": {},
          "execution_count": 59
        }
      ]
    },
    {
      "cell_type": "code",
      "source": [
        "X.isnull().sum().sum()"
      ],
      "metadata": {
        "id": "WDbYk6JHozWS",
        "outputId": "2190b6cb-08fd-4edb-fcf3-e282072ab6e0",
        "colab": {
          "base_uri": "https://localhost:8080/"
        }
      },
      "id": "WDbYk6JHozWS",
      "execution_count": 60,
      "outputs": [
        {
          "output_type": "execute_result",
          "data": {
            "text/plain": [
              "0"
            ]
          },
          "metadata": {},
          "execution_count": 60
        }
      ]
    },
    {
      "cell_type": "code",
      "source": [
        "si = SimpleImputer(strategy='median')"
      ],
      "metadata": {
        "id": "XCXNKFbxqd0f"
      },
      "id": "XCXNKFbxqd0f",
      "execution_count": 61,
      "outputs": []
    },
    {
      "cell_type": "code",
      "source": [
        "si.fit(X)"
      ],
      "metadata": {
        "id": "11GcVMskqd3H",
        "outputId": "6b6a8f22-f0dd-4b10-c2c0-5502ac7fe85a",
        "colab": {
          "base_uri": "https://localhost:8080/",
          "height": 75
        }
      },
      "id": "11GcVMskqd3H",
      "execution_count": 62,
      "outputs": [
        {
          "output_type": "execute_result",
          "data": {
            "text/plain": [
              "SimpleImputer(strategy='median')"
            ],
            "text/html": [
              "<style>#sk-container-id-3 {color: black;background-color: white;}#sk-container-id-3 pre{padding: 0;}#sk-container-id-3 div.sk-toggleable {background-color: white;}#sk-container-id-3 label.sk-toggleable__label {cursor: pointer;display: block;width: 100%;margin-bottom: 0;padding: 0.3em;box-sizing: border-box;text-align: center;}#sk-container-id-3 label.sk-toggleable__label-arrow:before {content: \"▸\";float: left;margin-right: 0.25em;color: #696969;}#sk-container-id-3 label.sk-toggleable__label-arrow:hover:before {color: black;}#sk-container-id-3 div.sk-estimator:hover label.sk-toggleable__label-arrow:before {color: black;}#sk-container-id-3 div.sk-toggleable__content {max-height: 0;max-width: 0;overflow: hidden;text-align: left;background-color: #f0f8ff;}#sk-container-id-3 div.sk-toggleable__content pre {margin: 0.2em;color: black;border-radius: 0.25em;background-color: #f0f8ff;}#sk-container-id-3 input.sk-toggleable__control:checked~div.sk-toggleable__content {max-height: 200px;max-width: 100%;overflow: auto;}#sk-container-id-3 input.sk-toggleable__control:checked~label.sk-toggleable__label-arrow:before {content: \"▾\";}#sk-container-id-3 div.sk-estimator input.sk-toggleable__control:checked~label.sk-toggleable__label {background-color: #d4ebff;}#sk-container-id-3 div.sk-label input.sk-toggleable__control:checked~label.sk-toggleable__label {background-color: #d4ebff;}#sk-container-id-3 input.sk-hidden--visually {border: 0;clip: rect(1px 1px 1px 1px);clip: rect(1px, 1px, 1px, 1px);height: 1px;margin: -1px;overflow: hidden;padding: 0;position: absolute;width: 1px;}#sk-container-id-3 div.sk-estimator {font-family: monospace;background-color: #f0f8ff;border: 1px dotted black;border-radius: 0.25em;box-sizing: border-box;margin-bottom: 0.5em;}#sk-container-id-3 div.sk-estimator:hover {background-color: #d4ebff;}#sk-container-id-3 div.sk-parallel-item::after {content: \"\";width: 100%;border-bottom: 1px solid gray;flex-grow: 1;}#sk-container-id-3 div.sk-label:hover label.sk-toggleable__label {background-color: #d4ebff;}#sk-container-id-3 div.sk-serial::before {content: \"\";position: absolute;border-left: 1px solid gray;box-sizing: border-box;top: 0;bottom: 0;left: 50%;z-index: 0;}#sk-container-id-3 div.sk-serial {display: flex;flex-direction: column;align-items: center;background-color: white;padding-right: 0.2em;padding-left: 0.2em;position: relative;}#sk-container-id-3 div.sk-item {position: relative;z-index: 1;}#sk-container-id-3 div.sk-parallel {display: flex;align-items: stretch;justify-content: center;background-color: white;position: relative;}#sk-container-id-3 div.sk-item::before, #sk-container-id-3 div.sk-parallel-item::before {content: \"\";position: absolute;border-left: 1px solid gray;box-sizing: border-box;top: 0;bottom: 0;left: 50%;z-index: -1;}#sk-container-id-3 div.sk-parallel-item {display: flex;flex-direction: column;z-index: 1;position: relative;background-color: white;}#sk-container-id-3 div.sk-parallel-item:first-child::after {align-self: flex-end;width: 50%;}#sk-container-id-3 div.sk-parallel-item:last-child::after {align-self: flex-start;width: 50%;}#sk-container-id-3 div.sk-parallel-item:only-child::after {width: 0;}#sk-container-id-3 div.sk-dashed-wrapped {border: 1px dashed gray;margin: 0 0.4em 0.5em 0.4em;box-sizing: border-box;padding-bottom: 0.4em;background-color: white;}#sk-container-id-3 div.sk-label label {font-family: monospace;font-weight: bold;display: inline-block;line-height: 1.2em;}#sk-container-id-3 div.sk-label-container {text-align: center;}#sk-container-id-3 div.sk-container {/* jupyter's `normalize.less` sets `[hidden] { display: none; }` but bootstrap.min.css set `[hidden] { display: none !important; }` so we also need the `!important` here to be able to override the default hidden behavior on the sphinx rendered scikit-learn.org. See: https://github.com/scikit-learn/scikit-learn/issues/21755 */display: inline-block !important;position: relative;}#sk-container-id-3 div.sk-text-repr-fallback {display: none;}</style><div id=\"sk-container-id-3\" class=\"sk-top-container\"><div class=\"sk-text-repr-fallback\"><pre>SimpleImputer(strategy=&#x27;median&#x27;)</pre><b>In a Jupyter environment, please rerun this cell to show the HTML representation or trust the notebook. <br />On GitHub, the HTML representation is unable to render, please try loading this page with nbviewer.org.</b></div><div class=\"sk-container\" hidden><div class=\"sk-item\"><div class=\"sk-estimator sk-toggleable\"><input class=\"sk-toggleable__control sk-hidden--visually\" id=\"sk-estimator-id-3\" type=\"checkbox\" checked><label for=\"sk-estimator-id-3\" class=\"sk-toggleable__label sk-toggleable__label-arrow\">SimpleImputer</label><div class=\"sk-toggleable__content\"><pre>SimpleImputer(strategy=&#x27;median&#x27;)</pre></div></div></div></div></div>"
            ]
          },
          "metadata": {},
          "execution_count": 62
        }
      ]
    },
    {
      "cell_type": "code",
      "source": [
        "X = si.transform(X)"
      ],
      "metadata": {
        "id": "MnOF6guKqeG2"
      },
      "id": "MnOF6guKqeG2",
      "execution_count": 63,
      "outputs": []
    },
    {
      "cell_type": "code",
      "source": [
        "X = pd.DataFrame(X, columns=column_name)"
      ],
      "metadata": {
        "id": "51i5OOK_smSX"
      },
      "id": "51i5OOK_smSX",
      "execution_count": 64,
      "outputs": []
    },
    {
      "cell_type": "code",
      "source": [
        "X.head()"
      ],
      "metadata": {
        "id": "a-AUGeWPrg-T",
        "outputId": "e0a79132-aba6-45b6-e68a-92b6c7eb14b9",
        "colab": {
          "base_uri": "https://localhost:8080/",
          "height": 300
        }
      },
      "id": "a-AUGeWPrg-T",
      "execution_count": 54,
      "outputs": [
        {
          "output_type": "execute_result",
          "data": {
            "text/plain": [
              "   loading  attribute_2  attribute_3  measurement_0  measurement_1  \\\n",
              "0    80.10          9.0          5.0            7.0            8.0   \n",
              "1    84.89          9.0          5.0           14.0            3.0   \n",
              "2    82.43          9.0          5.0           12.0            1.0   \n",
              "3   101.07          9.0          5.0           13.0            2.0   \n",
              "4   188.06          9.0          5.0            9.0            2.0   \n",
              "\n",
              "   measurement_2  measurement_3  measurement_4  measurement_5  measurement_6  \\\n",
              "0            4.0         18.040         12.518         15.748         19.292   \n",
              "1            3.0         18.213         11.540         17.717         17.893   \n",
              "2            5.0         18.057         11.652         16.738         18.240   \n",
              "3            6.0         17.295         11.188         18.576         18.339   \n",
              "4            8.0         19.346         12.950         16.990         15.746   \n",
              "\n",
              "   ...  measurement_8  measurement_9  measurement_10  measurement_11  \\\n",
              "0  ...         20.155         10.672          15.859         17.5940   \n",
              "1  ...         17.889         12.448          17.947         17.9150   \n",
              "2  ...         18.288         12.715          15.607         19.2115   \n",
              "3  ...         19.060         12.471          16.346         18.3770   \n",
              "4  ...         18.093         10.337          17.082         19.9320   \n",
              "\n",
              "   measurement_12  measurement_13  measurement_14  measurement_15  \\\n",
              "0          15.193          15.029          16.040          13.034   \n",
              "1          11.755          14.732          15.425          14.395   \n",
              "2          13.798          16.711          18.631          14.094   \n",
              "3          10.020          15.250          15.562          16.154   \n",
              "4          12.428          16.182          12.760          13.153   \n",
              "\n",
              "   measurement_16  measurement_17  \n",
              "0          14.684         764.100  \n",
              "1          15.631         682.057  \n",
              "2          17.946         663.376  \n",
              "3          17.172         826.282  \n",
              "4          16.412         579.885  \n",
              "\n",
              "[5 rows x 21 columns]"
            ],
            "text/html": [
              "\n",
              "\n",
              "  <div id=\"df-f67f3aa6-1ad9-49b6-9bde-be9e302d8628\">\n",
              "    <div class=\"colab-df-container\">\n",
              "      <div>\n",
              "<style scoped>\n",
              "    .dataframe tbody tr th:only-of-type {\n",
              "        vertical-align: middle;\n",
              "    }\n",
              "\n",
              "    .dataframe tbody tr th {\n",
              "        vertical-align: top;\n",
              "    }\n",
              "\n",
              "    .dataframe thead th {\n",
              "        text-align: right;\n",
              "    }\n",
              "</style>\n",
              "<table border=\"1\" class=\"dataframe\">\n",
              "  <thead>\n",
              "    <tr style=\"text-align: right;\">\n",
              "      <th></th>\n",
              "      <th>loading</th>\n",
              "      <th>attribute_2</th>\n",
              "      <th>attribute_3</th>\n",
              "      <th>measurement_0</th>\n",
              "      <th>measurement_1</th>\n",
              "      <th>measurement_2</th>\n",
              "      <th>measurement_3</th>\n",
              "      <th>measurement_4</th>\n",
              "      <th>measurement_5</th>\n",
              "      <th>measurement_6</th>\n",
              "      <th>...</th>\n",
              "      <th>measurement_8</th>\n",
              "      <th>measurement_9</th>\n",
              "      <th>measurement_10</th>\n",
              "      <th>measurement_11</th>\n",
              "      <th>measurement_12</th>\n",
              "      <th>measurement_13</th>\n",
              "      <th>measurement_14</th>\n",
              "      <th>measurement_15</th>\n",
              "      <th>measurement_16</th>\n",
              "      <th>measurement_17</th>\n",
              "    </tr>\n",
              "  </thead>\n",
              "  <tbody>\n",
              "    <tr>\n",
              "      <th>0</th>\n",
              "      <td>80.10</td>\n",
              "      <td>9.0</td>\n",
              "      <td>5.0</td>\n",
              "      <td>7.0</td>\n",
              "      <td>8.0</td>\n",
              "      <td>4.0</td>\n",
              "      <td>18.040</td>\n",
              "      <td>12.518</td>\n",
              "      <td>15.748</td>\n",
              "      <td>19.292</td>\n",
              "      <td>...</td>\n",
              "      <td>20.155</td>\n",
              "      <td>10.672</td>\n",
              "      <td>15.859</td>\n",
              "      <td>17.5940</td>\n",
              "      <td>15.193</td>\n",
              "      <td>15.029</td>\n",
              "      <td>16.040</td>\n",
              "      <td>13.034</td>\n",
              "      <td>14.684</td>\n",
              "      <td>764.100</td>\n",
              "    </tr>\n",
              "    <tr>\n",
              "      <th>1</th>\n",
              "      <td>84.89</td>\n",
              "      <td>9.0</td>\n",
              "      <td>5.0</td>\n",
              "      <td>14.0</td>\n",
              "      <td>3.0</td>\n",
              "      <td>3.0</td>\n",
              "      <td>18.213</td>\n",
              "      <td>11.540</td>\n",
              "      <td>17.717</td>\n",
              "      <td>17.893</td>\n",
              "      <td>...</td>\n",
              "      <td>17.889</td>\n",
              "      <td>12.448</td>\n",
              "      <td>17.947</td>\n",
              "      <td>17.9150</td>\n",
              "      <td>11.755</td>\n",
              "      <td>14.732</td>\n",
              "      <td>15.425</td>\n",
              "      <td>14.395</td>\n",
              "      <td>15.631</td>\n",
              "      <td>682.057</td>\n",
              "    </tr>\n",
              "    <tr>\n",
              "      <th>2</th>\n",
              "      <td>82.43</td>\n",
              "      <td>9.0</td>\n",
              "      <td>5.0</td>\n",
              "      <td>12.0</td>\n",
              "      <td>1.0</td>\n",
              "      <td>5.0</td>\n",
              "      <td>18.057</td>\n",
              "      <td>11.652</td>\n",
              "      <td>16.738</td>\n",
              "      <td>18.240</td>\n",
              "      <td>...</td>\n",
              "      <td>18.288</td>\n",
              "      <td>12.715</td>\n",
              "      <td>15.607</td>\n",
              "      <td>19.2115</td>\n",
              "      <td>13.798</td>\n",
              "      <td>16.711</td>\n",
              "      <td>18.631</td>\n",
              "      <td>14.094</td>\n",
              "      <td>17.946</td>\n",
              "      <td>663.376</td>\n",
              "    </tr>\n",
              "    <tr>\n",
              "      <th>3</th>\n",
              "      <td>101.07</td>\n",
              "      <td>9.0</td>\n",
              "      <td>5.0</td>\n",
              "      <td>13.0</td>\n",
              "      <td>2.0</td>\n",
              "      <td>6.0</td>\n",
              "      <td>17.295</td>\n",
              "      <td>11.188</td>\n",
              "      <td>18.576</td>\n",
              "      <td>18.339</td>\n",
              "      <td>...</td>\n",
              "      <td>19.060</td>\n",
              "      <td>12.471</td>\n",
              "      <td>16.346</td>\n",
              "      <td>18.3770</td>\n",
              "      <td>10.020</td>\n",
              "      <td>15.250</td>\n",
              "      <td>15.562</td>\n",
              "      <td>16.154</td>\n",
              "      <td>17.172</td>\n",
              "      <td>826.282</td>\n",
              "    </tr>\n",
              "    <tr>\n",
              "      <th>4</th>\n",
              "      <td>188.06</td>\n",
              "      <td>9.0</td>\n",
              "      <td>5.0</td>\n",
              "      <td>9.0</td>\n",
              "      <td>2.0</td>\n",
              "      <td>8.0</td>\n",
              "      <td>19.346</td>\n",
              "      <td>12.950</td>\n",
              "      <td>16.990</td>\n",
              "      <td>15.746</td>\n",
              "      <td>...</td>\n",
              "      <td>18.093</td>\n",
              "      <td>10.337</td>\n",
              "      <td>17.082</td>\n",
              "      <td>19.9320</td>\n",
              "      <td>12.428</td>\n",
              "      <td>16.182</td>\n",
              "      <td>12.760</td>\n",
              "      <td>13.153</td>\n",
              "      <td>16.412</td>\n",
              "      <td>579.885</td>\n",
              "    </tr>\n",
              "  </tbody>\n",
              "</table>\n",
              "<p>5 rows × 21 columns</p>\n",
              "</div>\n",
              "      <button class=\"colab-df-convert\" onclick=\"convertToInteractive('df-f67f3aa6-1ad9-49b6-9bde-be9e302d8628')\"\n",
              "              title=\"Convert this dataframe to an interactive table.\"\n",
              "              style=\"display:none;\">\n",
              "\n",
              "  <svg xmlns=\"http://www.w3.org/2000/svg\" height=\"24px\"viewBox=\"0 0 24 24\"\n",
              "       width=\"24px\">\n",
              "    <path d=\"M0 0h24v24H0V0z\" fill=\"none\"/>\n",
              "    <path d=\"M18.56 5.44l.94 2.06.94-2.06 2.06-.94-2.06-.94-.94-2.06-.94 2.06-2.06.94zm-11 1L8.5 8.5l.94-2.06 2.06-.94-2.06-.94L8.5 2.5l-.94 2.06-2.06.94zm10 10l.94 2.06.94-2.06 2.06-.94-2.06-.94-.94-2.06-.94 2.06-2.06.94z\"/><path d=\"M17.41 7.96l-1.37-1.37c-.4-.4-.92-.59-1.43-.59-.52 0-1.04.2-1.43.59L10.3 9.45l-7.72 7.72c-.78.78-.78 2.05 0 2.83L4 21.41c.39.39.9.59 1.41.59.51 0 1.02-.2 1.41-.59l7.78-7.78 2.81-2.81c.8-.78.8-2.07 0-2.86zM5.41 20L4 18.59l7.72-7.72 1.47 1.35L5.41 20z\"/>\n",
              "  </svg>\n",
              "      </button>\n",
              "\n",
              "\n",
              "\n",
              "    <div id=\"df-8447657f-65bf-411a-9789-50c4bafe5e8d\">\n",
              "      <button class=\"colab-df-quickchart\" onclick=\"quickchart('df-8447657f-65bf-411a-9789-50c4bafe5e8d')\"\n",
              "              title=\"Suggest charts.\"\n",
              "              style=\"display:none;\">\n",
              "\n",
              "<svg xmlns=\"http://www.w3.org/2000/svg\" height=\"24px\"viewBox=\"0 0 24 24\"\n",
              "     width=\"24px\">\n",
              "    <g>\n",
              "        <path d=\"M19 3H5c-1.1 0-2 .9-2 2v14c0 1.1.9 2 2 2h14c1.1 0 2-.9 2-2V5c0-1.1-.9-2-2-2zM9 17H7v-7h2v7zm4 0h-2V7h2v10zm4 0h-2v-4h2v4z\"/>\n",
              "    </g>\n",
              "</svg>\n",
              "      </button>\n",
              "    </div>\n",
              "\n",
              "<style>\n",
              "  .colab-df-quickchart {\n",
              "    background-color: #E8F0FE;\n",
              "    border: none;\n",
              "    border-radius: 50%;\n",
              "    cursor: pointer;\n",
              "    display: none;\n",
              "    fill: #1967D2;\n",
              "    height: 32px;\n",
              "    padding: 0 0 0 0;\n",
              "    width: 32px;\n",
              "  }\n",
              "\n",
              "  .colab-df-quickchart:hover {\n",
              "    background-color: #E2EBFA;\n",
              "    box-shadow: 0px 1px 2px rgba(60, 64, 67, 0.3), 0px 1px 3px 1px rgba(60, 64, 67, 0.15);\n",
              "    fill: #174EA6;\n",
              "  }\n",
              "\n",
              "  [theme=dark] .colab-df-quickchart {\n",
              "    background-color: #3B4455;\n",
              "    fill: #D2E3FC;\n",
              "  }\n",
              "\n",
              "  [theme=dark] .colab-df-quickchart:hover {\n",
              "    background-color: #434B5C;\n",
              "    box-shadow: 0px 1px 3px 1px rgba(0, 0, 0, 0.15);\n",
              "    filter: drop-shadow(0px 1px 2px rgba(0, 0, 0, 0.3));\n",
              "    fill: #FFFFFF;\n",
              "  }\n",
              "</style>\n",
              "\n",
              "    <script>\n",
              "      async function quickchart(key) {\n",
              "        const containerElement = document.querySelector('#' + key);\n",
              "        const charts = await google.colab.kernel.invokeFunction(\n",
              "            'suggestCharts', [key], {});\n",
              "      }\n",
              "    </script>\n",
              "\n",
              "      <script>\n",
              "\n",
              "function displayQuickchartButton(domScope) {\n",
              "  let quickchartButtonEl =\n",
              "    domScope.querySelector('#df-8447657f-65bf-411a-9789-50c4bafe5e8d button.colab-df-quickchart');\n",
              "  quickchartButtonEl.style.display =\n",
              "    google.colab.kernel.accessAllowed ? 'block' : 'none';\n",
              "}\n",
              "\n",
              "        displayQuickchartButton(document);\n",
              "      </script>\n",
              "      <style>\n",
              "    .colab-df-container {\n",
              "      display:flex;\n",
              "      flex-wrap:wrap;\n",
              "      gap: 12px;\n",
              "    }\n",
              "\n",
              "    .colab-df-convert {\n",
              "      background-color: #E8F0FE;\n",
              "      border: none;\n",
              "      border-radius: 50%;\n",
              "      cursor: pointer;\n",
              "      display: none;\n",
              "      fill: #1967D2;\n",
              "      height: 32px;\n",
              "      padding: 0 0 0 0;\n",
              "      width: 32px;\n",
              "    }\n",
              "\n",
              "    .colab-df-convert:hover {\n",
              "      background-color: #E2EBFA;\n",
              "      box-shadow: 0px 1px 2px rgba(60, 64, 67, 0.3), 0px 1px 3px 1px rgba(60, 64, 67, 0.15);\n",
              "      fill: #174EA6;\n",
              "    }\n",
              "\n",
              "    [theme=dark] .colab-df-convert {\n",
              "      background-color: #3B4455;\n",
              "      fill: #D2E3FC;\n",
              "    }\n",
              "\n",
              "    [theme=dark] .colab-df-convert:hover {\n",
              "      background-color: #434B5C;\n",
              "      box-shadow: 0px 1px 3px 1px rgba(0, 0, 0, 0.15);\n",
              "      filter: drop-shadow(0px 1px 2px rgba(0, 0, 0, 0.3));\n",
              "      fill: #FFFFFF;\n",
              "    }\n",
              "  </style>\n",
              "\n",
              "      <script>\n",
              "        const buttonEl =\n",
              "          document.querySelector('#df-f67f3aa6-1ad9-49b6-9bde-be9e302d8628 button.colab-df-convert');\n",
              "        buttonEl.style.display =\n",
              "          google.colab.kernel.accessAllowed ? 'block' : 'none';\n",
              "\n",
              "        async function convertToInteractive(key) {\n",
              "          const element = document.querySelector('#df-f67f3aa6-1ad9-49b6-9bde-be9e302d8628');\n",
              "          const dataTable =\n",
              "            await google.colab.kernel.invokeFunction('convertToInteractive',\n",
              "                                                     [key], {});\n",
              "          if (!dataTable) return;\n",
              "\n",
              "          const docLinkHtml = 'Like what you see? Visit the ' +\n",
              "            '<a target=\"_blank\" href=https://colab.research.google.com/notebooks/data_table.ipynb>data table notebook</a>'\n",
              "            + ' to learn more about interactive tables.';\n",
              "          element.innerHTML = '';\n",
              "          dataTable['output_type'] = 'display_data';\n",
              "          await google.colab.output.renderOutput(dataTable, element);\n",
              "          const docLink = document.createElement('div');\n",
              "          docLink.innerHTML = docLinkHtml;\n",
              "          element.appendChild(docLink);\n",
              "        }\n",
              "      </script>\n",
              "    </div>\n",
              "  </div>\n"
            ]
          },
          "metadata": {},
          "execution_count": 54
        }
      ]
    },
    {
      "cell_type": "code",
      "source": [
        "X.isnull().sum().sum()"
      ],
      "metadata": {
        "id": "5fD4i2qdtBxD",
        "outputId": "22cd213c-d168-4027-8916-bb9d113758f8",
        "colab": {
          "base_uri": "https://localhost:8080/"
        }
      },
      "id": "5fD4i2qdtBxD",
      "execution_count": 57,
      "outputs": [
        {
          "output_type": "execute_result",
          "data": {
            "text/plain": [
              "0"
            ]
          },
          "metadata": {},
          "execution_count": 57
        }
      ]
    },
    {
      "cell_type": "code",
      "source": [
        "rf = RandomForestClassifier()"
      ],
      "metadata": {
        "id": "2Fc5YerOuuik"
      },
      "id": "2Fc5YerOuuik",
      "execution_count": 65,
      "outputs": []
    },
    {
      "cell_type": "code",
      "source": [
        "rf.fit(X, y)"
      ],
      "metadata": {
        "id": "QHyQDYR-uulO",
        "outputId": "837e2e58-dd9b-48fe-c59c-d9fdef9865d1",
        "colab": {
          "base_uri": "https://localhost:8080/",
          "height": 75
        }
      },
      "id": "QHyQDYR-uulO",
      "execution_count": 66,
      "outputs": [
        {
          "output_type": "execute_result",
          "data": {
            "text/plain": [
              "RandomForestClassifier()"
            ],
            "text/html": [
              "<style>#sk-container-id-4 {color: black;background-color: white;}#sk-container-id-4 pre{padding: 0;}#sk-container-id-4 div.sk-toggleable {background-color: white;}#sk-container-id-4 label.sk-toggleable__label {cursor: pointer;display: block;width: 100%;margin-bottom: 0;padding: 0.3em;box-sizing: border-box;text-align: center;}#sk-container-id-4 label.sk-toggleable__label-arrow:before {content: \"▸\";float: left;margin-right: 0.25em;color: #696969;}#sk-container-id-4 label.sk-toggleable__label-arrow:hover:before {color: black;}#sk-container-id-4 div.sk-estimator:hover label.sk-toggleable__label-arrow:before {color: black;}#sk-container-id-4 div.sk-toggleable__content {max-height: 0;max-width: 0;overflow: hidden;text-align: left;background-color: #f0f8ff;}#sk-container-id-4 div.sk-toggleable__content pre {margin: 0.2em;color: black;border-radius: 0.25em;background-color: #f0f8ff;}#sk-container-id-4 input.sk-toggleable__control:checked~div.sk-toggleable__content {max-height: 200px;max-width: 100%;overflow: auto;}#sk-container-id-4 input.sk-toggleable__control:checked~label.sk-toggleable__label-arrow:before {content: \"▾\";}#sk-container-id-4 div.sk-estimator input.sk-toggleable__control:checked~label.sk-toggleable__label {background-color: #d4ebff;}#sk-container-id-4 div.sk-label input.sk-toggleable__control:checked~label.sk-toggleable__label {background-color: #d4ebff;}#sk-container-id-4 input.sk-hidden--visually {border: 0;clip: rect(1px 1px 1px 1px);clip: rect(1px, 1px, 1px, 1px);height: 1px;margin: -1px;overflow: hidden;padding: 0;position: absolute;width: 1px;}#sk-container-id-4 div.sk-estimator {font-family: monospace;background-color: #f0f8ff;border: 1px dotted black;border-radius: 0.25em;box-sizing: border-box;margin-bottom: 0.5em;}#sk-container-id-4 div.sk-estimator:hover {background-color: #d4ebff;}#sk-container-id-4 div.sk-parallel-item::after {content: \"\";width: 100%;border-bottom: 1px solid gray;flex-grow: 1;}#sk-container-id-4 div.sk-label:hover label.sk-toggleable__label {background-color: #d4ebff;}#sk-container-id-4 div.sk-serial::before {content: \"\";position: absolute;border-left: 1px solid gray;box-sizing: border-box;top: 0;bottom: 0;left: 50%;z-index: 0;}#sk-container-id-4 div.sk-serial {display: flex;flex-direction: column;align-items: center;background-color: white;padding-right: 0.2em;padding-left: 0.2em;position: relative;}#sk-container-id-4 div.sk-item {position: relative;z-index: 1;}#sk-container-id-4 div.sk-parallel {display: flex;align-items: stretch;justify-content: center;background-color: white;position: relative;}#sk-container-id-4 div.sk-item::before, #sk-container-id-4 div.sk-parallel-item::before {content: \"\";position: absolute;border-left: 1px solid gray;box-sizing: border-box;top: 0;bottom: 0;left: 50%;z-index: -1;}#sk-container-id-4 div.sk-parallel-item {display: flex;flex-direction: column;z-index: 1;position: relative;background-color: white;}#sk-container-id-4 div.sk-parallel-item:first-child::after {align-self: flex-end;width: 50%;}#sk-container-id-4 div.sk-parallel-item:last-child::after {align-self: flex-start;width: 50%;}#sk-container-id-4 div.sk-parallel-item:only-child::after {width: 0;}#sk-container-id-4 div.sk-dashed-wrapped {border: 1px dashed gray;margin: 0 0.4em 0.5em 0.4em;box-sizing: border-box;padding-bottom: 0.4em;background-color: white;}#sk-container-id-4 div.sk-label label {font-family: monospace;font-weight: bold;display: inline-block;line-height: 1.2em;}#sk-container-id-4 div.sk-label-container {text-align: center;}#sk-container-id-4 div.sk-container {/* jupyter's `normalize.less` sets `[hidden] { display: none; }` but bootstrap.min.css set `[hidden] { display: none !important; }` so we also need the `!important` here to be able to override the default hidden behavior on the sphinx rendered scikit-learn.org. See: https://github.com/scikit-learn/scikit-learn/issues/21755 */display: inline-block !important;position: relative;}#sk-container-id-4 div.sk-text-repr-fallback {display: none;}</style><div id=\"sk-container-id-4\" class=\"sk-top-container\"><div class=\"sk-text-repr-fallback\"><pre>RandomForestClassifier()</pre><b>In a Jupyter environment, please rerun this cell to show the HTML representation or trust the notebook. <br />On GitHub, the HTML representation is unable to render, please try loading this page with nbviewer.org.</b></div><div class=\"sk-container\" hidden><div class=\"sk-item\"><div class=\"sk-estimator sk-toggleable\"><input class=\"sk-toggleable__control sk-hidden--visually\" id=\"sk-estimator-id-4\" type=\"checkbox\" checked><label for=\"sk-estimator-id-4\" class=\"sk-toggleable__label sk-toggleable__label-arrow\">RandomForestClassifier</label><div class=\"sk-toggleable__content\"><pre>RandomForestClassifier()</pre></div></div></div></div></div>"
            ]
          },
          "metadata": {},
          "execution_count": 66
        }
      ]
    },
    {
      "cell_type": "code",
      "source": [
        "s = rf.predict(X)"
      ],
      "metadata": {
        "id": "HuL010ZNvkiN"
      },
      "id": "HuL010ZNvkiN",
      "execution_count": 69,
      "outputs": []
    },
    {
      "cell_type": "code",
      "source": [
        "(s==y).sum()/X.shape[0] #understand the errror and accuracy - 1 is 100% accurate"
      ],
      "metadata": {
        "id": "PLZsoPy5wiUe",
        "outputId": "84183430-4468-41c1-d19d-8e4d61c2cd32",
        "colab": {
          "base_uri": "https://localhost:8080/"
        }
      },
      "id": "PLZsoPy5wiUe",
      "execution_count": 72,
      "outputs": [
        {
          "output_type": "execute_result",
          "data": {
            "text/plain": [
              "1.0"
            ]
          },
          "metadata": {},
          "execution_count": 72
        }
      ]
    },
    {
      "cell_type": "code",
      "source": [
        "X_train, X_test, y_train, y_test = train_test_split(X,y, test_size=0.25)"
      ],
      "metadata": {
        "id": "IslLjFWgxM2T"
      },
      "id": "IslLjFWgxM2T",
      "execution_count": 76,
      "outputs": []
    },
    {
      "cell_type": "code",
      "source": [
        "rf.predict(X_train)"
      ],
      "metadata": {
        "id": "661v4_OGx2Q2",
        "outputId": "ceaccc32-2092-45db-d825-26bf2972237d",
        "colab": {
          "base_uri": "https://localhost:8080/"
        }
      },
      "id": "661v4_OGx2Q2",
      "execution_count": 77,
      "outputs": [
        {
          "output_type": "execute_result",
          "data": {
            "text/plain": [
              "array([0, 0, 1, ..., 0, 1, 1])"
            ]
          },
          "metadata": {},
          "execution_count": 77
        }
      ]
    },
    {
      "cell_type": "code",
      "source": [
        "pipe = make_pipeline(SimpleImputer(strategy = 'mean'), RandomForestClassifier())"
      ],
      "metadata": {
        "id": "5imuVHfKHHLi"
      },
      "id": "5imuVHfKHHLi",
      "execution_count": 68,
      "outputs": []
    },
    {
      "cell_type": "code",
      "execution_count": null,
      "id": "aa8e5f23",
      "metadata": {
        "_kg_hide-input": true,
        "_kg_hide-output": true,
        "execution": {
          "iopub.execute_input": "2023-04-21T13:40:52.202085Z",
          "iopub.status.busy": "2023-04-21T13:40:52.201222Z",
          "iopub.status.idle": "2023-04-21T13:40:53.588600Z",
          "shell.execute_reply": "2023-04-21T13:40:53.587445Z"
        },
        "papermill": {
          "duration": 1.395479,
          "end_time": "2023-04-21T13:40:53.591425",
          "exception": false,
          "start_time": "2023-04-21T13:40:52.195946",
          "status": "completed"
        },
        "tags": [],
        "id": "aa8e5f23"
      },
      "outputs": [],
      "source": [
        "# 3.0 Divide data into training and validation subsets\n",
        "X_train, X_valid, y_train, y_valid = train_test_split(X, y, train_size=0.8, test_size=0.2,\n",
        "                                                      random_state=0)"
      ]
    },
    {
      "cell_type": "code",
      "source": [
        "pipe.fit(X_train,y_train)"
      ],
      "metadata": {
        "colab": {
          "base_uri": "https://localhost:8080/",
          "height": 125
        },
        "id": "NRknvtNrH9Z1",
        "outputId": "21d3f8fd-4ce7-4d9d-ca2d-245660db063f"
      },
      "id": "NRknvtNrH9Z1",
      "execution_count": null,
      "outputs": [
        {
          "output_type": "execute_result",
          "data": {
            "text/plain": [
              "Pipeline(steps=[('simpleimputer', SimpleImputer()),\n",
              "                ('randomforestclassifier', RandomForestClassifier())])"
            ],
            "text/html": [
              "<style>#sk-container-id-2 {color: black;background-color: white;}#sk-container-id-2 pre{padding: 0;}#sk-container-id-2 div.sk-toggleable {background-color: white;}#sk-container-id-2 label.sk-toggleable__label {cursor: pointer;display: block;width: 100%;margin-bottom: 0;padding: 0.3em;box-sizing: border-box;text-align: center;}#sk-container-id-2 label.sk-toggleable__label-arrow:before {content: \"▸\";float: left;margin-right: 0.25em;color: #696969;}#sk-container-id-2 label.sk-toggleable__label-arrow:hover:before {color: black;}#sk-container-id-2 div.sk-estimator:hover label.sk-toggleable__label-arrow:before {color: black;}#sk-container-id-2 div.sk-toggleable__content {max-height: 0;max-width: 0;overflow: hidden;text-align: left;background-color: #f0f8ff;}#sk-container-id-2 div.sk-toggleable__content pre {margin: 0.2em;color: black;border-radius: 0.25em;background-color: #f0f8ff;}#sk-container-id-2 input.sk-toggleable__control:checked~div.sk-toggleable__content {max-height: 200px;max-width: 100%;overflow: auto;}#sk-container-id-2 input.sk-toggleable__control:checked~label.sk-toggleable__label-arrow:before {content: \"▾\";}#sk-container-id-2 div.sk-estimator input.sk-toggleable__control:checked~label.sk-toggleable__label {background-color: #d4ebff;}#sk-container-id-2 div.sk-label input.sk-toggleable__control:checked~label.sk-toggleable__label {background-color: #d4ebff;}#sk-container-id-2 input.sk-hidden--visually {border: 0;clip: rect(1px 1px 1px 1px);clip: rect(1px, 1px, 1px, 1px);height: 1px;margin: -1px;overflow: hidden;padding: 0;position: absolute;width: 1px;}#sk-container-id-2 div.sk-estimator {font-family: monospace;background-color: #f0f8ff;border: 1px dotted black;border-radius: 0.25em;box-sizing: border-box;margin-bottom: 0.5em;}#sk-container-id-2 div.sk-estimator:hover {background-color: #d4ebff;}#sk-container-id-2 div.sk-parallel-item::after {content: \"\";width: 100%;border-bottom: 1px solid gray;flex-grow: 1;}#sk-container-id-2 div.sk-label:hover label.sk-toggleable__label {background-color: #d4ebff;}#sk-container-id-2 div.sk-serial::before {content: \"\";position: absolute;border-left: 1px solid gray;box-sizing: border-box;top: 0;bottom: 0;left: 50%;z-index: 0;}#sk-container-id-2 div.sk-serial {display: flex;flex-direction: column;align-items: center;background-color: white;padding-right: 0.2em;padding-left: 0.2em;position: relative;}#sk-container-id-2 div.sk-item {position: relative;z-index: 1;}#sk-container-id-2 div.sk-parallel {display: flex;align-items: stretch;justify-content: center;background-color: white;position: relative;}#sk-container-id-2 div.sk-item::before, #sk-container-id-2 div.sk-parallel-item::before {content: \"\";position: absolute;border-left: 1px solid gray;box-sizing: border-box;top: 0;bottom: 0;left: 50%;z-index: -1;}#sk-container-id-2 div.sk-parallel-item {display: flex;flex-direction: column;z-index: 1;position: relative;background-color: white;}#sk-container-id-2 div.sk-parallel-item:first-child::after {align-self: flex-end;width: 50%;}#sk-container-id-2 div.sk-parallel-item:last-child::after {align-self: flex-start;width: 50%;}#sk-container-id-2 div.sk-parallel-item:only-child::after {width: 0;}#sk-container-id-2 div.sk-dashed-wrapped {border: 1px dashed gray;margin: 0 0.4em 0.5em 0.4em;box-sizing: border-box;padding-bottom: 0.4em;background-color: white;}#sk-container-id-2 div.sk-label label {font-family: monospace;font-weight: bold;display: inline-block;line-height: 1.2em;}#sk-container-id-2 div.sk-label-container {text-align: center;}#sk-container-id-2 div.sk-container {/* jupyter's `normalize.less` sets `[hidden] { display: none; }` but bootstrap.min.css set `[hidden] { display: none !important; }` so we also need the `!important` here to be able to override the default hidden behavior on the sphinx rendered scikit-learn.org. See: https://github.com/scikit-learn/scikit-learn/issues/21755 */display: inline-block !important;position: relative;}#sk-container-id-2 div.sk-text-repr-fallback {display: none;}</style><div id=\"sk-container-id-2\" class=\"sk-top-container\"><div class=\"sk-text-repr-fallback\"><pre>Pipeline(steps=[(&#x27;simpleimputer&#x27;, SimpleImputer()),\n",
              "                (&#x27;randomforestclassifier&#x27;, RandomForestClassifier())])</pre><b>In a Jupyter environment, please rerun this cell to show the HTML representation or trust the notebook. <br />On GitHub, the HTML representation is unable to render, please try loading this page with nbviewer.org.</b></div><div class=\"sk-container\" hidden><div class=\"sk-item sk-dashed-wrapped\"><div class=\"sk-label-container\"><div class=\"sk-label sk-toggleable\"><input class=\"sk-toggleable__control sk-hidden--visually\" id=\"sk-estimator-id-4\" type=\"checkbox\" ><label for=\"sk-estimator-id-4\" class=\"sk-toggleable__label sk-toggleable__label-arrow\">Pipeline</label><div class=\"sk-toggleable__content\"><pre>Pipeline(steps=[(&#x27;simpleimputer&#x27;, SimpleImputer()),\n",
              "                (&#x27;randomforestclassifier&#x27;, RandomForestClassifier())])</pre></div></div></div><div class=\"sk-serial\"><div class=\"sk-item\"><div class=\"sk-estimator sk-toggleable\"><input class=\"sk-toggleable__control sk-hidden--visually\" id=\"sk-estimator-id-5\" type=\"checkbox\" ><label for=\"sk-estimator-id-5\" class=\"sk-toggleable__label sk-toggleable__label-arrow\">SimpleImputer</label><div class=\"sk-toggleable__content\"><pre>SimpleImputer()</pre></div></div></div><div class=\"sk-item\"><div class=\"sk-estimator sk-toggleable\"><input class=\"sk-toggleable__control sk-hidden--visually\" id=\"sk-estimator-id-6\" type=\"checkbox\" ><label for=\"sk-estimator-id-6\" class=\"sk-toggleable__label sk-toggleable__label-arrow\">RandomForestClassifier</label><div class=\"sk-toggleable__content\"><pre>RandomForestClassifier()</pre></div></div></div></div></div></div></div>"
            ]
          },
          "metadata": {},
          "execution_count": 36
        }
      ]
    },
    {
      "cell_type": "code",
      "source": [
        "pred = pipe.predict(X_valid)"
      ],
      "metadata": {
        "id": "3KDj_4AXIIBe"
      },
      "id": "3KDj_4AXIIBe",
      "execution_count": null,
      "outputs": []
    },
    {
      "cell_type": "code",
      "source": [
        "accu = accuracy_score(y_valid,pred)\n",
        "accu   # 79%"
      ],
      "metadata": {
        "colab": {
          "base_uri": "https://localhost:8080/"
        },
        "id": "ePbLmLucIViV",
        "outputId": "9f3d23e3-3daf-4d0f-b584-6557baa04049"
      },
      "id": "ePbLmLucIViV",
      "execution_count": null,
      "outputs": [
        {
          "output_type": "execute_result",
          "data": {
            "text/plain": [
              "0.7922468949943545"
            ]
          },
          "metadata": {},
          "execution_count": 38
        }
      ]
    },
    {
      "cell_type": "markdown",
      "source": [
        "# Your Turn\n",
        "\n",
        "a. Add Standard Scaler and PCA to it  \n",
        "b. Add cross validation to it"
      ],
      "metadata": {
        "id": "tUAO9M4I38pm"
      },
      "id": "tUAO9M4I38pm"
    },
    {
      "cell_type": "code",
      "source": [
        "### ----------------------- Done -----------------"
      ],
      "metadata": {
        "id": "BsipSe-UKPWb"
      },
      "id": "BsipSe-UKPWb",
      "execution_count": null,
      "outputs": []
    }
  ],
  "metadata": {
    "kernelspec": {
      "display_name": "Python 3",
      "language": "python",
      "name": "python3"
    },
    "language_info": {
      "codemirror_mode": {
        "name": "ipython",
        "version": 3
      },
      "file_extension": ".py",
      "mimetype": "text/x-python",
      "name": "python",
      "nbconvert_exporter": "python",
      "pygments_lexer": "ipython3",
      "version": "3.7.12"
    },
    "papermill": {
      "default_parameters": {},
      "duration": 15.891205,
      "end_time": "2023-04-21T13:40:56.746001",
      "environment_variables": {},
      "exception": null,
      "input_path": "__notebook__.ipynb",
      "output_path": "__notebook__.ipynb",
      "parameters": {},
      "start_time": "2023-04-21T13:40:40.854796",
      "version": "2.4.0"
    },
    "colab": {
      "provenance": [],
      "include_colab_link": true
    }
  },
  "nbformat": 4,
  "nbformat_minor": 5
}